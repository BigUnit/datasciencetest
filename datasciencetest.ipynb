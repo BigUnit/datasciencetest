{
  "nbformat": 4,
  "nbformat_minor": 0,
  "metadata": {
    "colab": {
      "name": "datasciencetest.ipynb",
      "provenance": [],
      "collapsed_sections": [],
      "authorship_tag": "ABX9TyOQeU2QyRkvpWpXTc4kUCw2"
    },
    "kernelspec": {
      "name": "python3",
      "display_name": "Python 3"
    },
    "language_info": {
      "name": "python"
    }
  },
  "cells": [
    {
      "cell_type": "code",
      "execution_count": 112,
      "metadata": {
        "id": "ebJmM8Z5Hb60"
      },
      "outputs": [],
      "source": [
        "import os\n",
        "import pandas as pd\n",
        "import matplotlib.pyplot as plt\n",
        "import numpy as np\n",
        "#from scipy.stats import chisquare\n",
        "from statsmodels.stats.proportion import proportions_ztest\n",
        "\n",
        "\n",
        "if (not os.path.exists('./testSamples.csv')):\n",
        "  !wget https://raw.githubusercontent.com/BigUnit/datasciencetest/master/testSamples.csv\n",
        "if (not os.path.exists('./transData.csv')): \n",
        "  !wget https://raw.githubusercontent.com/BigUnit/datasciencetest/master/transData.csv\n",
        "\n",
        "\n",
        "samples = pd.read_csv('testSamples.csv')\n",
        "data = pd.read_csv('transData.csv')\n"
      ]
    },
    {
      "cell_type": "markdown",
      "source": [
        "# 1. What is the aproximate probability distribution between the test group and the control group\n"
      ],
      "metadata": {
        "id": "Vli17rz17d9x"
      }
    },
    {
      "cell_type": "code",
      "source": [
        "labels = ['Control Group', 'Test Group']\n",
        "sizes = samples.groupby('test_group').size()\n",
        "#print(f\"Control Group Count: {control.size}, Test Group Size: {test.size}\")\n",
        "fig, ax = plt.subplots()\n",
        "ax.pie(sizes, labels=labels, autopct=lambda p:f'{p:.2f}%, {p*sum(sizes)/100 :.0f}')\n",
        "ax.axis('equal')\n",
        "plt.title('Group Distribution')\n",
        "plt.show()\n",
        "\n",
        "print(f\"Group Distribution\\nControl Group: {100*sizes[0]/sum(sizes)}%\\nTest Group: {100*sizes[1]/sum(sizes)}%\")"
      ],
      "metadata": {
        "colab": {
          "base_uri": "https://localhost:8080/",
          "height": 316
        },
        "id": "liu7HBClMF5v",
        "outputId": "4261f8d7-2774-4a10-840f-e0d28c7e49b8"
      },
      "execution_count": 113,
      "outputs": [
        {
          "output_type": "display_data",
          "data": {
            "text/plain": [
              "<Figure size 432x288 with 1 Axes>"
            ],
            "image/png": "[encoded data removed]"
          },
          "metadata": {}
        },
        {
          "output_type": "stream",
          "name": "stdout",
          "text": [
            "Group Distribution\n",
            "Control Group: 75.1594916361079%\n",
            "Test Group: 24.8405083638921%\n"
          ]
        }
      ]
    },
    {
      "cell_type": "markdown",
      "source": [
        "# 2. Is a user that must call-in to cancel more likely to generate at least 1 addition REBILL?"
      ],
      "metadata": {
        "id": "dnFfdCCVD3sW"
      }
    },
    {
      "cell_type": "code",
      "source": [
        "df = pd.merge(data,samples,how='left', on='sample_id')\n",
        "\n",
        "\n",
        "#seperate control and test groups\n",
        "cData = df.loc[(df['test_group'] == 0)]\n",
        "tData = df.loc[(df['test_group'] == 1)]\n",
        "\n",
        "cUserCount = len(cData.groupby('sample_id')) \n",
        "tUserCount = len(tData.groupby('sample_id'))\n",
        "#totUserCount = len(df.groupby('sample_id'))\n",
        "#print(totUserCount)\n",
        "#print(cUserCount)\n",
        "#print(tUserCount)\n",
        "\n",
        "#totRebills = len(df.loc[(df['transaction_type'] == 'REBILL')].groupby('sample_id'))\n",
        "#print(totRebills)\n",
        "cRebills = len(cData.loc[(cData['transaction_type'] == 'REBILL')].groupby('sample_id')) / cUserCount\n",
        "#print(cRebills)\n",
        "tRebills = len(tData.loc[(tData['transaction_type'] == 'REBILL')].groupby('sample_id')) / tUserCount\n",
        "#print(tRebills)\n"
      ],
      "metadata": {
        "id": "OK5a46enEb9D"
      },
      "execution_count": 114,
      "outputs": []
    },
    {
      "cell_type": "code",
      "source": [
        "fig = plt.figure()\n",
        "ax = fig.add_axes([0,0,1,1])\n",
        "ax.bar(labels[0], 100*cRebills, color ='b')\n",
        "ax.bar(labels[1], 100*tRebills, color ='r')\n",
        "ax.set_title('Percentage of Rebill by Group')\n",
        "ax.set_ylabel('Percent')\n",
        "ax.set_yticks(np.arange(0, 101, 5))\n",
        "plt.show()\n",
        "\n",
        "print(f\"Percentage of Rebill by Group\\nControl Group: {100 * cRebills}%\\nTest Group: {100 * tRebills}%\")"
      ],
      "metadata": {
        "colab": {
          "base_uri": "https://localhost:8080/",
          "height": 404
        },
        "id": "XgCd-XeUpj7u",
        "outputId": "80dfec6f-c094-4595-f1d5-78a364723422"
      },
      "execution_count": 115,
      "outputs": [
        {
          "output_type": "display_data",
          "data": {
            "text/plain": [
              "<Figure size 432x288 with 1 Axes>"
            ],
            "image/png": "[encoded data removed]"
          },
          "metadata": {
            "needs_background": "light"
          }
        },
        {
          "output_type": "stream",
          "name": "stdout",
          "text": [
            "Percentage of Rebill by Group\n",
            "Control Group: 87.21037998146431%\n",
            "Test Group: 95.16819571865443%\n"
          ]
        }
      ]
    },
    {
      "cell_type": "code",
      "source": [
        "#rebill counts by group\n",
        "rebillCounts = [len(cData.loc[(cData['transaction_type'] == 'REBILL')].groupby('sample_id')), len(tData.loc[(tData['transaction_type'] == 'REBILL')].groupby('sample_id'))]\n",
        "z_stat, pval = proportions_ztest(rebillCounts, nobs=[cUserCount,tUserCount])\n",
        "pval"
      ],
      "metadata": {
        "id": "cujMnlewJ2v6",
        "outputId": "b8f9b0c3-8959-42d1-bfb2-c2d27c158bbb",
        "colab": {
          "base_uri": "https://localhost:8080/"
        }
      },
      "execution_count": 116,
      "outputs": [
        {
          "output_type": "execute_result",
          "data": {
            "text/plain": [
              "7.405360690361388e-14"
            ]
          },
          "metadata": {},
          "execution_count": 116
        }
      ]
    },
    {
      "cell_type": "markdown",
      "source": [
        "# 3. Is a user that must call-in to cancel more likely to generate more revenues?"
      ],
      "metadata": {
        "id": "t12FzWSXETDQ"
      }
    },
    {
      "cell_type": "code",
      "source": [
        "#average revenue \n",
        "cAvgRev = round(cData['transaction_amount'].sum() / cUserCount, 2)\n",
        "tAvgRev = round(tData['transaction_amount'].sum() / tUserCount, 2)\n",
        "\n",
        "\n",
        "fig = plt.figure()\n",
        "ax = fig.add_axes([0,0,1,1])\n",
        "ax.bar(labels[0], cAvgRev, color ='b')\n",
        "ax.bar(labels[1], tAvgRev, color ='r')\n",
        "ax.set_title('Average Revenue by Group')\n",
        "ax.set_ylabel('$')\n",
        "plt.show()\n",
        "\n",
        "print(f\"Average Revenue by Group\\nControl Group: ${cAvgRev}\\nTest Group: ${tAvgRev}\")"
      ],
      "metadata": {
        "colab": {
          "base_uri": "https://localhost:8080/",
          "height": 404
        },
        "id": "32vul9hFEcxw",
        "outputId": "9a4dca50-d580-4a0c-eeea-7fcd010bc9f0"
      },
      "execution_count": 117,
      "outputs": [
        {
          "output_type": "display_data",
          "data": {
            "text/plain": [
              "<Figure size 432x288 with 1 Axes>"
            ],
            "image/png": "[encoded data removed]"
          },
          "metadata": {
            "needs_background": "light"
          }
        },
        {
          "output_type": "stream",
          "name": "stdout",
          "text": [
            "Average Revenue by Group\n",
            "Control Group: $83.26\n",
            "Test Group: $58.37\n"
          ]
        }
      ]
    },
    {
      "cell_type": "markdown",
      "source": [
        "# 4. Is a user that must call-in more likely to produce a higher chargeback rate(CHARGEBACKs/REBILLs)?"
      ],
      "metadata": {
        "id": "Ocd6zeq7ETfZ"
      }
    },
    {
      "cell_type": "code",
      "source": [
        "#get ratio of chargebacks to rebills\n",
        "cCharge = len(cData.loc[(cData['transaction_type'] == 'CHARGEBACK')]) / len(cData.loc[(cData['transaction_type'] == 'REBILL')])\n",
        "tCharge = len(tData.loc[(tData['transaction_type'] == 'CHARGEBACK')]) / len(tData.loc[(tData['transaction_type'] == 'REBILL')])\n",
        "\n",
        "\n",
        "fig = plt.figure()\n",
        "ax = fig.add_axes([0,0,1,1])\n",
        "ax.bar(labels[0], cCharge, color ='b')\n",
        "ax.bar(labels[1], tCharge, color ='r')\n",
        "ax.set_title('Chargeback Rate by Group')\n",
        "ax.set_ylabel('Rate')\n",
        "plt.show()\n",
        "\n",
        "print(f\"Chargeback Rate by Group\\nControl Group: {cCharge}\\nTest Group: {tCharge}\")"
      ],
      "metadata": {
        "colab": {
          "base_uri": "https://localhost:8080/",
          "height": 404
        },
        "id": "CH0iu2toD_4-",
        "outputId": "81fc5c94-94ab-4ee0-87e1-98e04839a622"
      },
      "execution_count": 118,
      "outputs": [
        {
          "output_type": "display_data",
          "data": {
            "text/plain": [
              "<Figure size 432x288 with 1 Axes>"
            ],
            "image/png": "[encoded data removed]"
          },
          "metadata": {
            "needs_background": "light"
          }
        },
        {
          "output_type": "stream",
          "name": "stdout",
          "text": [
            "Chargeback Rate by Group\n",
            "Control Group: 0.028221512247071354\n",
            "Test Group: 0.017784711388455537\n"
          ]
        }
      ]
    }
  ]
}