{
  "nbformat": 4,
  "nbformat_minor": 0,
  "metadata": {
    "colab": {
      "name": "datasciencetest.ipynb",
      "provenance": [],
      "collapsed_sections": [],
      "authorship_tag": "ABX9TyP+CYwrn7NfbVCagOAEjYv7",
      "include_colab_link": true
    },
    "kernelspec": {
      "name": "python3",
      "display_name": "Python 3"
    },
    "language_info": {
      "name": "python"
    }
  },
  "cells": [
    {
      "cell_type": "markdown",
      "metadata": {
        "id": "view-in-github",
        "colab_type": "text"
      },
      "source": [
        "<a href=\"https://colab.research.google.com/github/BigUnit/datasciencetest/blob/master/datasciencetest.ipynb\" target=\"_parent\"><img src=\"https://colab.research.google.com/assets/colab-badge.svg\" alt=\"Open In Colab\"/></a>"
      ]
    },
    {
      "cell_type": "code",
      "execution_count": 39,
      "metadata": {
        "id": "ebJmM8Z5Hb60"
      },
      "outputs": [],
      "source": [
        "import pandas as pd\n",
        "import matplotlib.pyplot as plt\n",
        "\n",
        "samples = pd.read_csv('testSamples.csv')\n",
        "data = pd.read_csv('transData.csv')\n",
        "\n",
        "#print(samples.groupby('test_group').size())"
      ]
    },
    {
      "cell_type": "markdown",
      "source": [
        "# 1. What is the aproximate probability distribution between the test group and the control group\n"
      ],
      "metadata": {
        "id": "Vli17rz17d9x"
      }
    },
    {
      "cell_type": "code",
      "source": [
        "labels = ['Control Group', 'Test Group']\n",
        "sizes = samples.groupby('test_group').size()\n",
        "#print(f\"Control Group Count: {control.size}, Test Group Size: {test.size}\")\n",
        "fig, ax = plt.subplots()\n",
        "ax.pie(sizes, labels=labels, autopct=lambda p:f'{p:.2f}%, {p*sum(sizes)/100 :.0f}')\n",
        "ax.axis('equal')\n",
        "plt.title('Group Distribution')\n",
        "plt.show()"
      ],
      "metadata": {
        "colab": {
          "base_uri": "https://localhost:8080/",
          "height": 264
        },
        "id": "liu7HBClMF5v",
        "outputId": "41e42583-15e3-49bf-f2b7-7c0fe4c87247"
      },
      "execution_count": 38,
      "outputs": [
        {
          "output_type": "display_data",
          "data": {
            "text/plain": [
              "<Figure size 432x288 with 1 Axes>"
            ],
            "image/png": "[encoded data removed]"
          },
          "metadata": {}
        }
      ]
    },
    {
      "cell_type": "markdown",
      "source": [
        "# 2. Is a user that must call-in to cancel more likely to generate at least 1 addition REBILL?"
      ],
      "metadata": {
        "id": "dnFfdCCVD3sW"
      }
    },
    {
      "cell_type": "code",
      "source": [
        "df = pd.merge(data,samples,how='left', on='sample_id')\n",
        "\n",
        "\n",
        "\n",
        "cData = df.loc[(df['test_group'] == 0)]\n",
        "tData = df.loc[(df['test_group'] == 1)]\n",
        "\n",
        "cUserCount = len(cData.groupby('sample_id'))\n",
        "tUserCount = len(tData.groupby('sample_id'))\n",
        "totUserCount = len(df.groupby('sample_id'))\n",
        "print(totUserCount)\n",
        "print(cUserCount)\n",
        "print(tUserCount)\n",
        "\n",
        "\n",
        "#grouped = df.groupby(['test_group','sample_id'])#.size()\n",
        "#print(grouped)\n",
        "#print(grouped['test_group'] == 0))\n",
        "#print(grouped.groups)"
      ],
      "metadata": {
        "colab": {
          "base_uri": "https://localhost:8080/"
        },
        "id": "OK5a46enEb9D",
        "outputId": "9b02e5fb-0eaf-4615-f9b7-e1cbbe2c9d7f"
      },
      "execution_count": 109,
      "outputs": [
        {
          "output_type": "stream",
          "name": "stdout",
          "text": [
            "2714\n",
            "1079\n",
            "1635\n"
          ]
        }
      ]
    },
    {
      "cell_type": "code",
      "source": [
        "totRebills = len(df.loc[(df['transaction_type'] == 'REBILL')].groupby('sample_id'))\n",
        "print(totRebills)\n",
        "\n",
        "cRebills = len(cData.loc[(cData['transaction_type'] == 'REBILL')].groupby('sample_id'))\n",
        "print(cRebills)\n",
        "\n",
        "tRebills = len(tData.loc[(tData['transaction_type'] == 'REBILL')].groupby('sample_id'))\n",
        "print(tRebills)"
      ],
      "metadata": {
        "colab": {
          "base_uri": "https://localhost:8080/"
        },
        "id": "k5HOKNKveyEy",
        "outputId": "9ef0d111-d90f-4a49-bfd8-7aa01eb60f14"
      },
      "execution_count": 101,
      "outputs": [
        {
          "output_type": "stream",
          "name": "stdout",
          "text": [
            "2497\n",
            "941\n",
            "1556\n"
          ]
        }
      ]
    },
    {
      "cell_type": "code",
      "source": [
        "print(totRebills/totUserCount)\n",
        "print(cRebills/cUserCount)\n",
        "print(tRebills/tUserCount)"
      ],
      "metadata": {
        "colab": {
          "base_uri": "https://localhost:8080/"
        },
        "id": "XgCd-XeUpj7u",
        "outputId": "b1e81699-5bf4-483d-9ba4-726c28c47746"
      },
      "execution_count": 110,
      "outputs": [
        {
          "output_type": "stream",
          "name": "stdout",
          "text": [
            "0.9200442151805454\n",
            "0.8721037998146431\n",
            "0.9516819571865444\n"
          ]
        }
      ]
    },
    {
      "cell_type": "markdown",
      "source": [
        "# 3. Is a user that must call-in to cancel more likely to generate more revenues?"
      ],
      "metadata": {
        "id": "t12FzWSXETDQ"
      }
    },
    {
      "cell_type": "code",
      "source": [
        "cTotal = cData['transaction_amount'].sum() / cUserCount\n",
        "print(cTotal)\n",
        "\n",
        "tTotal = tData['transaction_amount'].sum() / tUserCount\n",
        "print(tTotal)"
      ],
      "metadata": {
        "colab": {
          "base_uri": "https://localhost:8080/"
        },
        "id": "32vul9hFEcxw",
        "outputId": "6291cb7d-e81d-4233-8f74-3dff18f8724e"
      },
      "execution_count": 102,
      "outputs": [
        {
          "output_type": "stream",
          "name": "stdout",
          "text": [
            "83.26126042632065\n",
            "58.36911314984709\n"
          ]
        }
      ]
    },
    {
      "cell_type": "markdown",
      "source": [
        "# 4. Is a user that must call-in more likely to produce a higher chargeback rate(CHARGEBACKs/REBILLs)?"
      ],
      "metadata": {
        "id": "Ocd6zeq7ETfZ"
      }
    },
    {
      "cell_type": "code",
      "source": [
        "totCharge = len(df.loc[(df['transaction_type'] == 'CHARGEBACK')]) / len(df.loc[(df['transaction_type'] == 'REBILL')])\n",
        "print(totCharge)\n",
        "\n",
        "cCharge = len(cData.loc[(cData['transaction_type'] == 'CHARGEBACK')]) / len(cData.loc[(cData['transaction_type'] == 'REBILL')])\n",
        "print(cCharge)\n",
        "\n",
        "tCharge = len(tData.loc[(tData['transaction_type'] == 'CHARGEBACK')]) / len(tData.loc[(tData['transaction_type'] == 'REBILL')])\n",
        "print(tCharge)"
      ],
      "metadata": {
        "colab": {
          "base_uri": "https://localhost:8080/"
        },
        "id": "CH0iu2toD_4-",
        "outputId": "e10029e5-7b84-4a43-ade3-db5f385ff93b"
      },
      "execution_count": 107,
      "outputs": [
        {
          "output_type": "stream",
          "name": "stdout",
          "text": [
            "0.023416175836805057\n",
            "0.028221512247071354\n",
            "0.017784711388455537\n"
          ]
        }
      ]
    }
  ]
}